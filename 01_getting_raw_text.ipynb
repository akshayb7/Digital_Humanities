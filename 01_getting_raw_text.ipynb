{
 "cells": [
  {
   "cell_type": "code",
   "execution_count": 21,
   "id": "8849c17c-b0c7-41b0-bdde-7c0d873145ae",
   "metadata": {},
   "outputs": [],
   "source": [
    "import pytesseract\n",
    "import cv2\n",
    "import glob\n",
    "from PyPDF2 import PdfFileWriter, PdfFileReader\n",
    "from pdf2image import convert_from_path\n",
    "from PIL import Image\n",
    "Image.MAX_IMAGE_PIXELS = None"
   ]
  },
  {
   "cell_type": "code",
   "execution_count": 6,
   "id": "f257047a-1911-44f1-9254-fc0cb6dd231b",
   "metadata": {},
   "outputs": [],
   "source": [
    "# Separate Pages\n",
    "# https://stackoverflow.com/questions/490195/split-a-multi-page-pdf-file-into-multiple-pdf-files-with-python\n",
    "inputpdf = PdfFileReader(open(\"Data/letters.pdf\", \"rb\"))\n",
    "\n",
    "page_num = 17\n",
    "for i in range(inputpdf.numPages):\n",
    "    if page_num <100:\n",
    "        x = f\"0{page_num}\"\n",
    "    else:\n",
    "        x = f\"{page_num}\" \n",
    "    output = PdfFileWriter()\n",
    "    output.addPage(inputpdf.getPage(i))\n",
    "    with open(f\"Data/letter_pages/mgh_page_{x}.pdf\", \"wb\") as outputStream:\n",
    "        output.write(outputStream)\n",
    "    page_num = page_num + 1"
   ]
  },
  {
   "cell_type": "code",
   "execution_count": 15,
   "id": "659fba9b-6cc3-42ea-9d4d-1b75a302aa30",
   "metadata": {},
   "outputs": [],
   "source": [
    "files = glob.glob(\"Data/letter_pages/*.pdf\")"
   ]
  },
  {
   "cell_type": "code",
   "execution_count": 23,
   "id": "8d23bc70-2a0a-48c8-a99c-dd411e7d6fb2",
   "metadata": {},
   "outputs": [],
   "source": [
    "# Create images for pages \n",
    "# https://stackoverflow.com/questions/46184239/extract-a-page-from-a-pdf-as-a-jpeg\n",
    "for file in files:\n",
    "    new_file_name = file.replace('letter_pages', 'images_pages').replace('pdf','jpg')\n",
    "    pages = convert_from_path(file, 500)\n",
    "    for page in pages:\n",
    "        page.save(new_file_name, 'JPEG')"
   ]
  },
  {
   "cell_type": "code",
   "execution_count": 30,
   "id": "dd2f86ea-702c-4a51-99c5-f0d479e7c4c1",
   "metadata": {},
   "outputs": [],
   "source": [
    "image_files = glob.glob(\"Data/images_pages/*.jpg\")"
   ]
  },
  {
   "cell_type": "code",
   "execution_count": 34,
   "id": "1211645b-0074-4323-b6ac-d423c263c4f5",
   "metadata": {},
   "outputs": [],
   "source": [
    "for file in image_files[:1]:\n",
    "    image = cv2.imread(file)\n",
    "    gray = cv2.cvtColor(image, cv2.COLOR_BGR2GRAY)\n",
    "    "
   ]
  },
  {
   "cell_type": "code",
   "execution_count": null,
   "id": "75389359-1c78-45ce-92cc-9c8a5476f36e",
   "metadata": {},
   "outputs": [],
   "source": []
  }
 ],
 "metadata": {
  "kernelspec": {
   "display_name": "Python 3 (ipykernel)",
   "language": "python",
   "name": "python3"
  },
  "language_info": {
   "codemirror_mode": {
    "name": "ipython",
    "version": 3
   },
   "file_extension": ".py",
   "mimetype": "text/x-python",
   "name": "python",
   "nbconvert_exporter": "python",
   "pygments_lexer": "ipython3",
   "version": "3.9.6"
  }
 },
 "nbformat": 4,
 "nbformat_minor": 5
}
